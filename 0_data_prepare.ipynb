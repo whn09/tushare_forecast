{
 "cells": [
  {
   "cell_type": "code",
   "execution_count": null,
   "id": "frank-resort",
   "metadata": {},
   "outputs": [],
   "source": [
    "!pip install tushare # -i https://opentuna.cn/pypi/web/simple"
   ]
  },
  {
   "cell_type": "code",
   "execution_count": 1,
   "id": "brutal-airplane",
   "metadata": {},
   "outputs": [],
   "source": [
    "import tushare as ts\n",
    "\n",
    "import datetime\n",
    "from datetime import date\n",
    "import pandas as pd\n",
    "import numpy as np\n",
    "from sklearn.preprocessing import LabelEncoder\n",
    "import pickle\n",
    "import json\n",
    "\n",
    "import boto3\n",
    "import sagemaker"
   ]
  },
  {
   "cell_type": "code",
   "execution_count": 2,
   "id": "loved-donna",
   "metadata": {},
   "outputs": [],
   "source": [
    "ts.set_token('1a1754d406d84b97ebb678b3cae9bfe3cbfaf4c0770f5409ae6e03b5')\n",
    "\n",
    "pro = ts.pro_api()"
   ]
  },
  {
   "cell_type": "code",
   "execution_count": 3,
   "id": "congressional-weight",
   "metadata": {},
   "outputs": [],
   "source": [
    "#查询当前所有正常上市交易的股票列表\n",
    "\n",
    "data = pro.stock_basic(exchange='', list_status='L', fields='ts_code,symbol,name,area,industry,list_date')"
   ]
  },
  {
   "cell_type": "code",
   "execution_count": 4,
   "id": "compliant-director",
   "metadata": {},
   "outputs": [],
   "source": [
    "data['list_date'] = pd.to_datetime(data['list_date'], format='%Y%m%d')"
   ]
  },
  {
   "cell_type": "code",
   "execution_count": 5,
   "id": "direct-speech",
   "metadata": {},
   "outputs": [
    {
     "data": {
      "text/plain": [
       "(4260, 6)"
      ]
     },
     "execution_count": 5,
     "metadata": {},
     "output_type": "execute_result"
    }
   ],
   "source": [
    "data.shape"
   ]
  },
  {
   "cell_type": "code",
   "execution_count": 6,
   "id": "clean-terminology",
   "metadata": {},
   "outputs": [],
   "source": [
    "origin_data = data.copy()"
   ]
  },
  {
   "cell_type": "code",
   "execution_count": 7,
   "id": "promotional-disclaimer",
   "metadata": {},
   "outputs": [],
   "source": [
    "origin_data.to_csv('stock_basic.csv', index=False)"
   ]
  },
  {
   "cell_type": "code",
   "execution_count": 8,
   "id": "compound-deficit",
   "metadata": {},
   "outputs": [],
   "source": [
    "data = data[:10]"
   ]
  },
  {
   "cell_type": "code",
   "execution_count": 9,
   "id": "stupid-swiss",
   "metadata": {},
   "outputs": [
    {
     "data": {
      "text/html": [
       "<div>\n",
       "<style scoped>\n",
       "    .dataframe tbody tr th:only-of-type {\n",
       "        vertical-align: middle;\n",
       "    }\n",
       "\n",
       "    .dataframe tbody tr th {\n",
       "        vertical-align: top;\n",
       "    }\n",
       "\n",
       "    .dataframe thead th {\n",
       "        text-align: right;\n",
       "    }\n",
       "</style>\n",
       "<table border=\"1\" class=\"dataframe\">\n",
       "  <thead>\n",
       "    <tr style=\"text-align: right;\">\n",
       "      <th></th>\n",
       "      <th>ts_code</th>\n",
       "      <th>symbol</th>\n",
       "      <th>name</th>\n",
       "      <th>area</th>\n",
       "      <th>industry</th>\n",
       "      <th>list_date</th>\n",
       "    </tr>\n",
       "  </thead>\n",
       "  <tbody>\n",
       "    <tr>\n",
       "      <th>0</th>\n",
       "      <td>000001.SZ</td>\n",
       "      <td>000001</td>\n",
       "      <td>平安银行</td>\n",
       "      <td>深圳</td>\n",
       "      <td>银行</td>\n",
       "      <td>1991-04-03</td>\n",
       "    </tr>\n",
       "    <tr>\n",
       "      <th>1</th>\n",
       "      <td>000002.SZ</td>\n",
       "      <td>000002</td>\n",
       "      <td>万科A</td>\n",
       "      <td>深圳</td>\n",
       "      <td>全国地产</td>\n",
       "      <td>1991-01-29</td>\n",
       "    </tr>\n",
       "    <tr>\n",
       "      <th>2</th>\n",
       "      <td>000004.SZ</td>\n",
       "      <td>000004</td>\n",
       "      <td>国华网安</td>\n",
       "      <td>深圳</td>\n",
       "      <td>软件服务</td>\n",
       "      <td>1991-01-14</td>\n",
       "    </tr>\n",
       "    <tr>\n",
       "      <th>3</th>\n",
       "      <td>000005.SZ</td>\n",
       "      <td>000005</td>\n",
       "      <td>世纪星源</td>\n",
       "      <td>深圳</td>\n",
       "      <td>环境保护</td>\n",
       "      <td>1990-12-10</td>\n",
       "    </tr>\n",
       "    <tr>\n",
       "      <th>4</th>\n",
       "      <td>000006.SZ</td>\n",
       "      <td>000006</td>\n",
       "      <td>深振业A</td>\n",
       "      <td>深圳</td>\n",
       "      <td>区域地产</td>\n",
       "      <td>1992-04-27</td>\n",
       "    </tr>\n",
       "  </tbody>\n",
       "</table>\n",
       "</div>"
      ],
      "text/plain": [
       "     ts_code  symbol  name area industry  list_date\n",
       "0  000001.SZ  000001  平安银行   深圳       银行 1991-04-03\n",
       "1  000002.SZ  000002   万科A   深圳     全国地产 1991-01-29\n",
       "2  000004.SZ  000004  国华网安   深圳     软件服务 1991-01-14\n",
       "3  000005.SZ  000005  世纪星源   深圳     环境保护 1990-12-10\n",
       "4  000006.SZ  000006  深振业A   深圳     区域地产 1992-04-27"
      ]
     },
     "execution_count": 9,
     "metadata": {},
     "output_type": "execute_result"
    }
   ],
   "source": [
    "data.head()"
   ]
  },
  {
   "cell_type": "code",
   "execution_count": 10,
   "id": "juvenile-antarctica",
   "metadata": {},
   "outputs": [],
   "source": [
    "start_time = '20200101'\n",
    "end_time = date.today().strftime(\"%Y%m%d\")"
   ]
  },
  {
   "cell_type": "code",
   "execution_count": 11,
   "id": "rough-length",
   "metadata": {},
   "outputs": [],
   "source": [
    "alldata = None\n",
    "\n",
    "def get_daily(ts_code, start_date, end_date):\n",
    "    global alldata\n",
    "    df = pro.daily(ts_code=ts_code, start_date=start_date, end_date=end_date)\n",
    "    if alldata is None:\n",
    "        alldata = df\n",
    "    else:\n",
    "        alldata = pd.concat((alldata, df), axis=0)\n",
    "\n",
    "_ = data['ts_code'].apply(lambda x: get_daily(x, start_time, end_time))"
   ]
  },
  {
   "cell_type": "code",
   "execution_count": 12,
   "id": "painful-private",
   "metadata": {},
   "outputs": [],
   "source": [
    "alldata['trade_date'] = pd.to_datetime(alldata['trade_date'], format='%Y%m%d')"
   ]
  },
  {
   "cell_type": "code",
   "execution_count": 13,
   "id": "alien-jonathan",
   "metadata": {},
   "outputs": [],
   "source": [
    "def get_list_day(ts_code, trade_date):\n",
    "    list_date = data[data['ts_code'] == ts_code]['list_date']\n",
    "    if list_date.shape[0] > 0:\n",
    "        list_date = list_date.iloc[0]\n",
    "    else:\n",
    "        return None\n",
    "    list_day = (trade_date-list_date).days\n",
    "    return list_day\n",
    "\n",
    "alldata['list_day'] = alldata.apply(lambda x: get_list_day(x['ts_code'], x['trade_date']), axis=1)"
   ]
  },
  {
   "cell_type": "code",
   "execution_count": 14,
   "id": "equivalent-priest",
   "metadata": {},
   "outputs": [
    {
     "data": {
      "text/plain": [
       "(3139, 12)"
      ]
     },
     "execution_count": 14,
     "metadata": {},
     "output_type": "execute_result"
    }
   ],
   "source": [
    "alldata.shape"
   ]
  },
  {
   "cell_type": "code",
   "execution_count": 15,
   "id": "wound-first",
   "metadata": {},
   "outputs": [
    {
     "data": {
      "text/html": [
       "<div>\n",
       "<style scoped>\n",
       "    .dataframe tbody tr th:only-of-type {\n",
       "        vertical-align: middle;\n",
       "    }\n",
       "\n",
       "    .dataframe tbody tr th {\n",
       "        vertical-align: top;\n",
       "    }\n",
       "\n",
       "    .dataframe thead th {\n",
       "        text-align: right;\n",
       "    }\n",
       "</style>\n",
       "<table border=\"1\" class=\"dataframe\">\n",
       "  <thead>\n",
       "    <tr style=\"text-align: right;\">\n",
       "      <th></th>\n",
       "      <th>ts_code</th>\n",
       "      <th>trade_date</th>\n",
       "      <th>open</th>\n",
       "      <th>high</th>\n",
       "      <th>low</th>\n",
       "      <th>close</th>\n",
       "      <th>pre_close</th>\n",
       "      <th>change</th>\n",
       "      <th>pct_chg</th>\n",
       "      <th>vol</th>\n",
       "      <th>amount</th>\n",
       "      <th>list_day</th>\n",
       "    </tr>\n",
       "  </thead>\n",
       "  <tbody>\n",
       "    <tr>\n",
       "      <th>0</th>\n",
       "      <td>000001.SZ</td>\n",
       "      <td>2021-04-20</td>\n",
       "      <td>21.08</td>\n",
       "      <td>21.95</td>\n",
       "      <td>20.92</td>\n",
       "      <td>21.69</td>\n",
       "      <td>21.15</td>\n",
       "      <td>0.54</td>\n",
       "      <td>2.5532</td>\n",
       "      <td>834772.72</td>\n",
       "      <td>1798249.024</td>\n",
       "      <td>10975</td>\n",
       "    </tr>\n",
       "    <tr>\n",
       "      <th>1</th>\n",
       "      <td>000001.SZ</td>\n",
       "      <td>2021-04-19</td>\n",
       "      <td>20.03</td>\n",
       "      <td>21.24</td>\n",
       "      <td>19.91</td>\n",
       "      <td>21.15</td>\n",
       "      <td>20.26</td>\n",
       "      <td>0.89</td>\n",
       "      <td>4.3929</td>\n",
       "      <td>1112282.62</td>\n",
       "      <td>2304021.478</td>\n",
       "      <td>10974</td>\n",
       "    </tr>\n",
       "    <tr>\n",
       "      <th>2</th>\n",
       "      <td>000001.SZ</td>\n",
       "      <td>2021-04-16</td>\n",
       "      <td>20.36</td>\n",
       "      <td>20.43</td>\n",
       "      <td>19.81</td>\n",
       "      <td>20.26</td>\n",
       "      <td>20.36</td>\n",
       "      <td>-0.10</td>\n",
       "      <td>-0.4912</td>\n",
       "      <td>729998.26</td>\n",
       "      <td>1466509.057</td>\n",
       "      <td>10971</td>\n",
       "    </tr>\n",
       "    <tr>\n",
       "      <th>3</th>\n",
       "      <td>000001.SZ</td>\n",
       "      <td>2021-04-15</td>\n",
       "      <td>20.76</td>\n",
       "      <td>20.77</td>\n",
       "      <td>20.08</td>\n",
       "      <td>20.36</td>\n",
       "      <td>20.67</td>\n",
       "      <td>-0.31</td>\n",
       "      <td>-1.4998</td>\n",
       "      <td>735865.05</td>\n",
       "      <td>1494016.040</td>\n",
       "      <td>10970</td>\n",
       "    </tr>\n",
       "    <tr>\n",
       "      <th>4</th>\n",
       "      <td>000001.SZ</td>\n",
       "      <td>2021-04-14</td>\n",
       "      <td>20.79</td>\n",
       "      <td>20.94</td>\n",
       "      <td>20.42</td>\n",
       "      <td>20.67</td>\n",
       "      <td>20.78</td>\n",
       "      <td>-0.11</td>\n",
       "      <td>-0.5294</td>\n",
       "      <td>537438.49</td>\n",
       "      <td>1113001.541</td>\n",
       "      <td>10969</td>\n",
       "    </tr>\n",
       "  </tbody>\n",
       "</table>\n",
       "</div>"
      ],
      "text/plain": [
       "     ts_code trade_date   open   high    low  close  pre_close  change  \\\n",
       "0  000001.SZ 2021-04-20  21.08  21.95  20.92  21.69      21.15    0.54   \n",
       "1  000001.SZ 2021-04-19  20.03  21.24  19.91  21.15      20.26    0.89   \n",
       "2  000001.SZ 2021-04-16  20.36  20.43  19.81  20.26      20.36   -0.10   \n",
       "3  000001.SZ 2021-04-15  20.76  20.77  20.08  20.36      20.67   -0.31   \n",
       "4  000001.SZ 2021-04-14  20.79  20.94  20.42  20.67      20.78   -0.11   \n",
       "\n",
       "   pct_chg         vol       amount  list_day  \n",
       "0   2.5532   834772.72  1798249.024     10975  \n",
       "1   4.3929  1112282.62  2304021.478     10974  \n",
       "2  -0.4912   729998.26  1466509.057     10971  \n",
       "3  -1.4998   735865.05  1494016.040     10970  \n",
       "4  -0.5294   537438.49  1113001.541     10969  "
      ]
     },
     "execution_count": 15,
     "metadata": {},
     "output_type": "execute_result"
    }
   ],
   "source": [
    "alldata.head()"
   ]
  },
  {
   "cell_type": "code",
   "execution_count": 16,
   "id": "acknowledged-proposal",
   "metadata": {},
   "outputs": [
    {
     "data": {
      "text/html": [
       "<div>\n",
       "<style scoped>\n",
       "    .dataframe tbody tr th:only-of-type {\n",
       "        vertical-align: middle;\n",
       "    }\n",
       "\n",
       "    .dataframe tbody tr th {\n",
       "        vertical-align: top;\n",
       "    }\n",
       "\n",
       "    .dataframe thead th {\n",
       "        text-align: right;\n",
       "    }\n",
       "</style>\n",
       "<table border=\"1\" class=\"dataframe\">\n",
       "  <thead>\n",
       "    <tr style=\"text-align: right;\">\n",
       "      <th></th>\n",
       "      <th>open</th>\n",
       "      <th>high</th>\n",
       "      <th>low</th>\n",
       "      <th>close</th>\n",
       "      <th>pre_close</th>\n",
       "      <th>change</th>\n",
       "      <th>pct_chg</th>\n",
       "      <th>vol</th>\n",
       "      <th>amount</th>\n",
       "      <th>list_day</th>\n",
       "    </tr>\n",
       "  </thead>\n",
       "  <tbody>\n",
       "    <tr>\n",
       "      <th>count</th>\n",
       "      <td>3139.000000</td>\n",
       "      <td>3139.000000</td>\n",
       "      <td>3139.000000</td>\n",
       "      <td>3139.000000</td>\n",
       "      <td>3139.000000</td>\n",
       "      <td>3139.000000</td>\n",
       "      <td>3139.000000</td>\n",
       "      <td>3.139000e+03</td>\n",
       "      <td>3.139000e+03</td>\n",
       "      <td>3139.000000</td>\n",
       "    </tr>\n",
       "    <tr>\n",
       "      <th>mean</th>\n",
       "      <td>11.504817</td>\n",
       "      <td>11.743778</td>\n",
       "      <td>11.288611</td>\n",
       "      <td>11.516903</td>\n",
       "      <td>11.516301</td>\n",
       "      <td>0.000602</td>\n",
       "      <td>0.034724</td>\n",
       "      <td>3.779815e+05</td>\n",
       "      <td>5.656258e+05</td>\n",
       "      <td>10437.597324</td>\n",
       "    </tr>\n",
       "    <tr>\n",
       "      <th>std</th>\n",
       "      <td>9.411287</td>\n",
       "      <td>9.616231</td>\n",
       "      <td>9.212036</td>\n",
       "      <td>9.412513</td>\n",
       "      <td>9.413363</td>\n",
       "      <td>0.478168</td>\n",
       "      <td>2.964855</td>\n",
       "      <td>4.877455e+05</td>\n",
       "      <td>9.648990e+05</td>\n",
       "      <td>516.142814</td>\n",
       "    </tr>\n",
       "    <tr>\n",
       "      <th>min</th>\n",
       "      <td>1.830000</td>\n",
       "      <td>1.850000</td>\n",
       "      <td>1.760000</td>\n",
       "      <td>1.820000</td>\n",
       "      <td>1.820000</td>\n",
       "      <td>-4.160000</td>\n",
       "      <td>-10.101000</td>\n",
       "      <td>4.300000e+03</td>\n",
       "      <td>2.777865e+03</td>\n",
       "      <td>8833.000000</td>\n",
       "    </tr>\n",
       "    <tr>\n",
       "      <th>25%</th>\n",
       "      <td>3.790000</td>\n",
       "      <td>3.885000</td>\n",
       "      <td>3.740000</td>\n",
       "      <td>3.810000</td>\n",
       "      <td>3.810000</td>\n",
       "      <td>-0.110000</td>\n",
       "      <td>-1.408100</td>\n",
       "      <td>5.608703e+04</td>\n",
       "      <td>3.458763e+04</td>\n",
       "      <td>10299.000000</td>\n",
       "    </tr>\n",
       "    <tr>\n",
       "      <th>50%</th>\n",
       "      <td>8.000000</td>\n",
       "      <td>8.130000</td>\n",
       "      <td>7.850000</td>\n",
       "      <td>8.000000</td>\n",
       "      <td>8.000000</td>\n",
       "      <td>0.000000</td>\n",
       "      <td>0.000000</td>\n",
       "      <td>1.452488e+05</td>\n",
       "      <td>8.450977e+04</td>\n",
       "      <td>10551.000000</td>\n",
       "    </tr>\n",
       "    <tr>\n",
       "      <th>75%</th>\n",
       "      <td>17.500000</td>\n",
       "      <td>17.855000</td>\n",
       "      <td>17.195000</td>\n",
       "      <td>17.500000</td>\n",
       "      <td>17.490000</td>\n",
       "      <td>0.090000</td>\n",
       "      <td>1.228000</td>\n",
       "      <td>5.790050e+05</td>\n",
       "      <td>6.324793e+05</td>\n",
       "      <td>10773.500000</td>\n",
       "    </tr>\n",
       "    <tr>\n",
       "      <th>max</th>\n",
       "      <td>48.000000</td>\n",
       "      <td>49.000000</td>\n",
       "      <td>42.630000</td>\n",
       "      <td>44.770000</td>\n",
       "      <td>44.770000</td>\n",
       "      <td>4.070000</td>\n",
       "      <td>10.163900</td>\n",
       "      <td>4.711461e+06</td>\n",
       "      <td>8.382664e+06</td>\n",
       "      <td>11089.000000</td>\n",
       "    </tr>\n",
       "  </tbody>\n",
       "</table>\n",
       "</div>"
      ],
      "text/plain": [
       "              open         high          low        close    pre_close  \\\n",
       "count  3139.000000  3139.000000  3139.000000  3139.000000  3139.000000   \n",
       "mean     11.504817    11.743778    11.288611    11.516903    11.516301   \n",
       "std       9.411287     9.616231     9.212036     9.412513     9.413363   \n",
       "min       1.830000     1.850000     1.760000     1.820000     1.820000   \n",
       "25%       3.790000     3.885000     3.740000     3.810000     3.810000   \n",
       "50%       8.000000     8.130000     7.850000     8.000000     8.000000   \n",
       "75%      17.500000    17.855000    17.195000    17.500000    17.490000   \n",
       "max      48.000000    49.000000    42.630000    44.770000    44.770000   \n",
       "\n",
       "            change      pct_chg           vol        amount      list_day  \n",
       "count  3139.000000  3139.000000  3.139000e+03  3.139000e+03   3139.000000  \n",
       "mean      0.000602     0.034724  3.779815e+05  5.656258e+05  10437.597324  \n",
       "std       0.478168     2.964855  4.877455e+05  9.648990e+05    516.142814  \n",
       "min      -4.160000   -10.101000  4.300000e+03  2.777865e+03   8833.000000  \n",
       "25%      -0.110000    -1.408100  5.608703e+04  3.458763e+04  10299.000000  \n",
       "50%       0.000000     0.000000  1.452488e+05  8.450977e+04  10551.000000  \n",
       "75%       0.090000     1.228000  5.790050e+05  6.324793e+05  10773.500000  \n",
       "max       4.070000    10.163900  4.711461e+06  8.382664e+06  11089.000000  "
      ]
     },
     "execution_count": 16,
     "metadata": {},
     "output_type": "execute_result"
    }
   ],
   "source": [
    "alldata.describe()"
   ]
  },
  {
   "cell_type": "code",
   "execution_count": 17,
   "id": "improved-asthma",
   "metadata": {},
   "outputs": [],
   "source": [
    "alldata.to_csv(start_time+'_'+end_time+'.csv', index=False)"
   ]
  },
  {
   "cell_type": "code",
   "execution_count": 18,
   "id": "trained-timber",
   "metadata": {},
   "outputs": [
    {
     "name": "stdout",
     "output_type": "stream",
     "text": [
      "start_time: 2020-01-02 00:00:00\n",
      "end_time: 2021-04-20 00:00:00\n"
     ]
    }
   ],
   "source": [
    "freq = '1D'\n",
    "prediction_length = 7\n",
    "context_length = 365\n",
    "\n",
    "id_feature = 'ts_code'\n",
    "label_feature = 'close'\n",
    "time_feature = 'trade_date'\n",
    "sparse_features = ['area', 'industry']\n",
    "dynamic_dense_features = ['list_day']\n",
    "\n",
    "start_time = alldata[time_feature].min()\n",
    "end_time = alldata[time_feature].max()\n",
    "print('start_time:', start_time)\n",
    "print('end_time:', end_time)"
   ]
  },
  {
   "cell_type": "code",
   "execution_count": 19,
   "id": "adolescent-dylan",
   "metadata": {},
   "outputs": [
    {
     "name": "stdout",
     "output_type": "stream",
     "text": [
      "area: 2 ['深圳' '北京'] ... na: 0\n",
      "industry: 9 ['银行' '全国地产' '软件服务' '环境保护' '区域地产'] ... na: 0\n"
     ]
    }
   ],
   "source": [
    "for sparse_feature in sparse_features:\n",
    "    print(sparse_feature+':', len(data[sparse_feature].unique()), data[sparse_feature].unique()[:5], '... na:', sum(data[sparse_feature].isna()))"
   ]
  },
  {
   "cell_type": "code",
   "execution_count": 20,
   "id": "thermal-queue",
   "metadata": {},
   "outputs": [
    {
     "name": "stdout",
     "output_type": "stream",
     "text": [
      "cnt: 0\n",
      "num_timeseries: 10\n",
      "CPU times: user 1.93 ms, sys: 385 µs, total: 2.32 ms\n",
      "Wall time: 2.05 ms\n"
     ]
    }
   ],
   "source": [
    "%%time\n",
    "\n",
    "ids = []\n",
    "data_group = alldata.groupby(id_feature)\n",
    "cnt = 0\n",
    "for name, group in data_group:\n",
    "    if cnt % 1000 == 0:\n",
    "        print('cnt:', cnt)\n",
    "    cnt += 1\n",
    "    # print(name)\n",
    "    # print(group)\n",
    "    new_name = str(name)\n",
    "    # print(new_name)\n",
    "    ids.append(new_name)\n",
    "\n",
    "num_timeseries = len(ids)\n",
    "print('num_timeseries:', num_timeseries)"
   ]
  },
  {
   "cell_type": "code",
   "execution_count": 21,
   "id": "transparent-columbus",
   "metadata": {},
   "outputs": [
    {
     "data": {
      "text/plain": [
       "['000001.SZ',\n",
       " '000002.SZ',\n",
       " '000004.SZ',\n",
       " '000005.SZ',\n",
       " '000006.SZ',\n",
       " '000007.SZ',\n",
       " '000008.SZ',\n",
       " '000009.SZ',\n",
       " '000010.SZ',\n",
       " '000011.SZ']"
      ]
     },
     "execution_count": 21,
     "metadata": {},
     "output_type": "execute_result"
    }
   ],
   "source": [
    "ids"
   ]
  },
  {
   "cell_type": "code",
   "execution_count": 22,
   "id": "classical-verse",
   "metadata": {},
   "outputs": [],
   "source": [
    "def get_timeseries(df, dense_feature):\n",
    "    df_group = df.groupby(id_feature)\n",
    "    dense_df = pd.DataFrame({time_feature: [start_time, end_time]})\n",
    "    dense_df.set_index(time_feature, inplace=True)\n",
    "    dense_df = dense_df.resample(freq).asfreq()\n",
    "    # print(dense_df)\n",
    "    for name, group in df_group:\n",
    "#         print(name)\n",
    "        tmp_df = pd.DataFrame({name: group[dense_feature], time_feature:group[time_feature]})\n",
    "        tmp_df.set_index(time_feature, inplace=True)\n",
    "        if dense_feature == label_feature:\n",
    "            tmp_df = tmp_df.resample(freq).sum()  # aggregate\n",
    "        else:\n",
    "            tmp_df = tmp_df.resample(freq).mean()  # aggregate\n",
    "        # print(tmp_df)\n",
    "        dense_df = dense_df.join(tmp_df)\n",
    "    if dense_feature == label_feature:\n",
    "        dense_df = dense_df.resample(freq).sum()  # aggregate\n",
    "    else:\n",
    "        dense_df = dense_df.resample(freq).mean()  # aggregate\n",
    "        # TODO fill NaN\n",
    "        dense_df = dense_df.replace([np.inf, -np.inf], np.nan)\n",
    "        dense_df.fillna(method='ffill', inplace=True)\n",
    "        dense_df.fillna(method='bfill', inplace=True)\n",
    "        dense_df.fillna(0, inplace=True)\n",
    "    print('dense_df.shape:', dense_df.shape)\n",
    "    \n",
    "    timeseries = []\n",
    "    for i in range(num_timeseries):\n",
    "        dfi = dense_df.iloc[:,i]\n",
    "        timeseries.append(dfi)\n",
    "    # print(timeseries)\n",
    "    return timeseries"
   ]
  },
  {
   "cell_type": "code",
   "execution_count": 23,
   "id": "wireless-harvest",
   "metadata": {},
   "outputs": [
    {
     "name": "stdout",
     "output_type": "stream",
     "text": [
      "dense_df.shape: (475, 10)\n"
     ]
    }
   ],
   "source": [
    "timeseries = get_timeseries(alldata, label_feature)"
   ]
  },
  {
   "cell_type": "code",
   "execution_count": 24,
   "id": "laughing-retro",
   "metadata": {},
   "outputs": [
    {
     "name": "stdout",
     "output_type": "stream",
     "text": [
      "list_day\n",
      "dense_df.shape: (475, 10)\n"
     ]
    }
   ],
   "source": [
    "dynamic_dense_timeseries = []\n",
    "for dense_feature in dynamic_dense_features:\n",
    "    print(dense_feature)\n",
    "    dense_timeseries = get_timeseries(alldata, dense_feature)\n",
    "    dynamic_dense_timeseries.append(dense_timeseries)"
   ]
  },
  {
   "cell_type": "code",
   "execution_count": 25,
   "id": "magnetic-wichita",
   "metadata": {},
   "outputs": [
    {
     "name": "stdout",
     "output_type": "stream",
     "text": [
      "area features_arr: 2\n",
      "industry features_arr: 9\n"
     ]
    }
   ],
   "source": [
    "property_cats = []\n",
    "\n",
    "ids_df = pd.DataFrame({id_feature: ids})\n",
    "\n",
    "for sparse_feature in sparse_features:\n",
    "    le = LabelEncoder()\n",
    "    new_data = ids_df.merge(data, how='left', on=id_feature)\n",
    "#     print(new_data)\n",
    "    features_arr = le.fit_transform(new_data[sparse_feature])\n",
    "    property_cats.append(features_arr.tolist())\n",
    "    le_classes = le.classes_.tolist()\n",
    "    print(sparse_feature, 'features_arr:', len(le_classes))\n",
    "    pickle.dump(le, open((sparse_feature+'_le.pickle').replace('/', '_'), 'wb'))"
   ]
  },
  {
   "cell_type": "code",
   "execution_count": 26,
   "id": "civil-documentation",
   "metadata": {},
   "outputs": [
    {
     "data": {
      "text/plain": [
       "[[1, 1, 1, 1, 1, 1, 0, 1, 1, 1], [8, 0, 5, 3, 1, 7, 6, 4, 2, 1]]"
      ]
     },
     "execution_count": 26,
     "metadata": {},
     "output_type": "execute_result"
    }
   ],
   "source": [
    "property_cats"
   ]
  },
  {
   "cell_type": "code",
   "execution_count": 27,
   "id": "historic-floor",
   "metadata": {},
   "outputs": [],
   "source": [
    "DATETIME_START_OF_TRAIN = start_time\n",
    "DATETIME_END_OF_TRAIN = end_time+datetime.timedelta(days=1)-datetime.timedelta(days=2*prediction_length)\n",
    "DATETIME_START_OF_TEST = DATETIME_END_OF_TRAIN\n",
    "DATETIME_END_OF_TEST = end_time+datetime.timedelta(days=1)-datetime.timedelta(days=prediction_length)\n",
    "DATETIME_START_OF_PREDICT = DATETIME_END_OF_TEST\n",
    "DATETIME_END_OF_PREDICT = end_time+datetime.timedelta(days=1)"
   ]
  },
  {
   "cell_type": "code",
   "execution_count": 28,
   "id": "satellite-occurrence",
   "metadata": {},
   "outputs": [
    {
     "name": "stdout",
     "output_type": "stream",
     "text": [
      "start_dataset: 2020-01-02 00:00:00\n",
      "end_training: 2021-04-07 00:00:00\n",
      "start_test: 2021-04-07 00:00:00\n",
      "end_test: 2021-04-14 00:00:00\n",
      "start_predict: 2021-04-14 00:00:00\n",
      "end_predict: 2021-04-21 00:00:00\n"
     ]
    }
   ],
   "source": [
    "start_dataset = pd.Timestamp(DATETIME_START_OF_TRAIN, freq=freq)\n",
    "end_training = pd.Timestamp(DATETIME_END_OF_TRAIN, freq=freq)\n",
    "start_test = pd.Timestamp(DATETIME_START_OF_TEST, freq=freq)\n",
    "end_test = pd.Timestamp(DATETIME_END_OF_TEST, freq=freq)\n",
    "start_predict = pd.Timestamp(DATETIME_START_OF_PREDICT, freq=freq)\n",
    "end_predict = pd.Timestamp(DATETIME_END_OF_PREDICT, freq=freq)\n",
    "print('start_dataset:', start_dataset)\n",
    "print('end_training:', end_training)\n",
    "print('start_test:', start_test)\n",
    "print('end_test:', end_test)\n",
    "print('start_predict:', start_predict)\n",
    "print('end_predict:', end_predict)"
   ]
  },
  {
   "cell_type": "code",
   "execution_count": 29,
   "id": "reserved-auditor",
   "metadata": {},
   "outputs": [
    {
     "name": "stdout",
     "output_type": "stream",
     "text": [
      "10 461 461\n"
     ]
    }
   ],
   "source": [
    "training_data = [\n",
    "    {\n",
    "        \"start\": str(timeseries[i].index[0]),\n",
    "        \"target\": timeseries[i][start_dataset:end_training][:-1].tolist(),  # We use -1, because pandas indexing includes the upper bound \n",
    "        \"dynamic_feat\": [dense_timeseries[i][start_dataset:end_training][:-1].tolist() for dense_timeseries in dynamic_dense_timeseries],\n",
    "        \"cat\": [property_cat[i] for property_cat in property_cats],\n",
    "        \"id\": ids[i]\n",
    "    }\n",
    "    for i in range(num_timeseries)\n",
    "]\n",
    "print(len(training_data), len(timeseries[0][start_dataset:end_training][:-1].tolist()), len(dense_timeseries[0][start_dataset:end_training][:-1].tolist()))"
   ]
  },
  {
   "cell_type": "code",
   "execution_count": 30,
   "id": "together-history",
   "metadata": {},
   "outputs": [
    {
     "name": "stdout",
     "output_type": "stream",
     "text": [
      "10 468 468\n"
     ]
    }
   ],
   "source": [
    "test_data = [\n",
    "    {\n",
    "        \"start\": str(timeseries[i].index[0]),\n",
    "        \"target\": timeseries[i][start_dataset:end_test][:-1].tolist(),\n",
    "        \"dynamic_feat\": [dense_timeseries[i][start_dataset:end_test][:-1].tolist() for dense_timeseries in dynamic_dense_timeseries],\n",
    "        \"cat\": [property_cat[i] for property_cat in property_cats],\n",
    "        \"id\": ids[i]\n",
    "    }\n",
    "    for i in range(num_timeseries)\n",
    "]\n",
    "print(len(test_data), len(timeseries[0][start_dataset:end_test][:-1].tolist()), len(dense_timeseries[0][start_dataset:end_test][:-1].tolist()))"
   ]
  },
  {
   "cell_type": "code",
   "execution_count": 31,
   "id": "concerned-enemy",
   "metadata": {},
   "outputs": [
    {
     "name": "stdout",
     "output_type": "stream",
     "text": [
      "10 475 475\n"
     ]
    }
   ],
   "source": [
    "predict_data = [\n",
    "    {\n",
    "        \"start\": str(timeseries[i].index[0]),\n",
    "        \"target\": timeseries[i][start_dataset:end_predict].tolist(),\n",
    "        \"dynamic_feat\": [dense_timeseries[i][start_dataset:end_predict].tolist() for dense_timeseries in dynamic_dense_timeseries],\n",
    "        \"cat\": [property_cat[i] for property_cat in property_cats],\n",
    "        \"id\": ids[i]\n",
    "    }\n",
    "    for i in range(num_timeseries)\n",
    "]\n",
    "print(len(predict_data), len(timeseries[0][start_dataset:end_predict].tolist()), len(dense_timeseries[0][start_dataset:end_predict].tolist()))"
   ]
  },
  {
   "cell_type": "code",
   "execution_count": 32,
   "id": "sporting-sacramento",
   "metadata": {},
   "outputs": [],
   "source": [
    "def write_dicts_to_file(path, data):\n",
    "    with open(path, 'wb') as fp:\n",
    "        for d in data:\n",
    "            fp.write(json.dumps(d).replace('NaN', '\"NaN\"').encode(\"utf-8\"))\n",
    "            fp.write(\"\\n\".encode('utf-8'))"
   ]
  },
  {
   "cell_type": "code",
   "execution_count": 33,
   "id": "generous-boring",
   "metadata": {},
   "outputs": [
    {
     "name": "stdout",
     "output_type": "stream",
     "text": [
      "CPU times: user 7.44 ms, sys: 0 ns, total: 7.44 ms\n",
      "Wall time: 6.7 ms\n"
     ]
    }
   ],
   "source": [
    "%%time\n",
    "write_dicts_to_file(\"train_\"+freq+\".json\", training_data)\n",
    "write_dicts_to_file(\"test_\"+freq+\".json\", test_data)\n",
    "write_dicts_to_file(\"predict_\"+freq+\".json\", predict_data)"
   ]
  },
  {
   "cell_type": "code",
   "execution_count": 34,
   "id": "decimal-orchestra",
   "metadata": {},
   "outputs": [],
   "source": [
    "s3 = boto3.resource('s3')\n",
    "def copy_to_s3(local_file, s3_path, override=False):\n",
    "    assert s3_path.startswith('s3://')\n",
    "    split = s3_path.split('/')\n",
    "    bucket = split[2]\n",
    "    path = '/'.join(split[3:])\n",
    "    buk = s3.Bucket(bucket)\n",
    "    \n",
    "    if len(list(buk.objects.filter(Prefix=path))) > 0:\n",
    "        if not override:\n",
    "            print('File s3://{}/{} already exists.\\nSet override to upload anyway.\\n'.format(s3_bucket, s3_path))\n",
    "            return\n",
    "        else:\n",
    "            print('Overwriting existing file')\n",
    "    with open(local_file, 'rb') as data:\n",
    "        print('Uploading file to {}'.format(s3_path))\n",
    "        buk.put_object(Key=path, Body=data)"
   ]
  },
  {
   "cell_type": "code",
   "execution_count": 35,
   "id": "million-infrared",
   "metadata": {},
   "outputs": [],
   "source": [
    "sagemaker_session = sagemaker.Session()\n",
    "role = sagemaker.get_execution_role()             # IAM role to use by SageMaker\n",
    "region = sagemaker_session.boto_region_name\n",
    "\n",
    "s3_bucket = sagemaker_session.default_bucket()  # replace with an existing bucket if needed\n",
    "s3_prefix = 'time_series_forecast'    # prefix used for all data stored within the bucket\n",
    "s3_data_path = \"s3://{}/{}/data\".format(s3_bucket, s3_prefix)"
   ]
  },
  {
   "cell_type": "code",
   "execution_count": null,
   "id": "subtle-synthetic",
   "metadata": {},
   "outputs": [],
   "source": [
    "%%time\n",
    "copy_to_s3(\"train_\"+freq+\".json\", s3_data_path + \"/train/train_\"+freq+\".json\", override=True)\n",
    "copy_to_s3(\"test_\"+freq+\".json\", s3_data_path + \"/test/test_\"+freq+\".json\", override=True)\n",
    "copy_to_s3(\"predict_\"+freq+\".json\", s3_data_path + \"/predict/predict_\"+freq+\".json\", override=True)"
   ]
  },
  {
   "cell_type": "code",
   "execution_count": null,
   "id": "involved-building",
   "metadata": {},
   "outputs": [],
   "source": []
  }
 ],
 "metadata": {
  "kernelspec": {
   "display_name": "conda_python3",
   "language": "python",
   "name": "conda_python3"
  },
  "language_info": {
   "codemirror_mode": {
    "name": "ipython",
    "version": 3
   },
   "file_extension": ".py",
   "mimetype": "text/x-python",
   "name": "python",
   "nbconvert_exporter": "python",
   "pygments_lexer": "ipython3",
   "version": "3.6.13"
  }
 },
 "nbformat": 4,
 "nbformat_minor": 5
}
